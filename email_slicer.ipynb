{
  "nbformat": 4,
  "nbformat_minor": 0,
  "metadata": {
    "colab": {
      "name": "email_slicer.ipynb",
      "provenance": [],
      "authorship_tag": "ABX9TyPU7pS1GrDwkVMTMTRxsHEh",
      "include_colab_link": true
    },
    "kernelspec": {
      "name": "python3",
      "display_name": "Python 3"
    },
    "language_info": {
      "name": "python"
    }
  },
  "cells": [
    {
      "cell_type": "markdown",
      "metadata": {
        "id": "view-in-github",
        "colab_type": "text"
      },
      "source": [
        "<a href=\"https://colab.research.google.com/github/Anushka1211300/EMAIL-SLICER-PROJECT/blob/main/email_slicer.ipynb\" target=\"_parent\"><img src=\"https://colab.research.google.com/assets/colab-badge.svg\" alt=\"Open In Colab\"/></a>"
      ]
    },
    {
      "cell_type": "code",
      "metadata": {
        "colab": {
          "base_uri": "https://localhost:8080/"
        },
        "id": "HrfHHX2ZRyvm",
        "outputId": "4dbc79b5-7627-4d62-cdc1-e53d2c26413e"
      },
      "source": [
        " email = input(\"dear user please enter your email: \")\n",
        "\n",
        " words = email.split('@')\n",
        "\n",
        " print(\"your username is : \", words[0])\n",
        " print(\"your domain name  is: \", words[1])\n",
        " print(\"Thank you so much sir .Visit again . \")"
      ],
      "execution_count": 4,
      "outputs": [
        {
          "output_type": "stream",
          "text": [
            "dear user please enter your email: email.anushkamishra@gmail.com\n",
            "your username is :  email.anushkamishra\n",
            "your domain name  is:  gmail.com\n",
            "Thank you so much sir .Visit again . \n"
          ],
          "name": "stdout"
        }
      ]
    }
  ]
}